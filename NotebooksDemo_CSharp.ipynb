{
  "cells": [
    {
      "cell_type": "markdown",
      "source": [
        "## Welcome to C# notebooks in Azure Cosmos DB!## "
      ],
      "metadata": {
        "nteract": {
          "transient": {
            "deleting": false
          }
        }
      }
    },
    {
      "cell_type": "markdown",
      "source": [
        "### Use Cosmos .NET SDK to create resources ###"
      ],
      "metadata": {
        "nteract": {
          "transient": {
            "deleting": false
          }
        }
      }
    },
    {
      "cell_type": "code",
      "source": [
        "using System;\n",
        "using Microsoft.Azure.Cosmos;\n",
        "using System.Collections;\n",
        "\n",
        "// Initialize a new instance of CosmosClient using the built-in account endpoint and key parameters\n",
        "CosmosClient cosmosClient = new CosmosClient(Cosmos.Endpoint, Cosmos.Key);\n",
        "\n",
        "// Create a new database and container with 400 RU/s\n",
        "Microsoft.Azure.Cosmos.Database database = await cosmosClient.CreateDatabaseIfNotExistsAsync(\"Demo\");\n",
        "Container container = await database.CreateContainerIfNotExistsAsync(\"PaymentData\", \"/id\", 400);\n",
        "\n",
        "Display.AsMarkdown(@\"\n",
        "Created database Demo and container PaymentData.\n",
        "\");"
      ],
      "outputs": [
        {
          "output_type": "execute_result",
          "execution_count": 1,
          "data": {},
          "metadata": {}
        },
        {
          "output_type": "display_data",
          "data": {
            "text/plain": [
              "<IPython.core.display.Markdown object>"
            ],
            "text/markdown": [
              "\n",
              "Created database Demo and container PaymentData.\n"
            ]
          },
          "metadata": {}
        }
      ],
      "execution_count": 1,
      "metadata": {
        "collapsed": true,
        "execution": {
          "iopub.execute_input": "2020-05-08T21:26:28.495Z",
          "iopub.status.busy": "2020-05-08T21:26:28.490Z",
          "iopub.status.idle": "2020-05-08T21:26:28.534Z",
          "shell.execute_reply": "2020-05-08T21:26:28.580Z"
        },
        "jupyter": {
          "outputs_hidden": false,
          "source_hidden": false
        },
        "nteract": {
          "transient": {
            "deleting": false
          }
        },
        "outputExpanded": false,
        "trusted": true
      }
    },
    {
      "cell_type": "markdown",
      "source": [
        "### Represent C# classes ###"
      ],
      "metadata": {
        "nteract": {
          "transient": {
            "deleting": false
          }
        }
      }
    },
    {
      "cell_type": "code",
      "source": [
        "using System;\n",
        "\n",
        "class PaymentEvent\n",
        "{\n",
        "    public string id { get; set; }\n",
        "\n",
        "    public Decimal Amount { get; set; }\n",
        "\n",
        "    public string TransactionType { get; set; }\n",
        "\n",
        "    public string Currency { get; set; }\n",
        "\n",
        "    public string Username { get; set; }\n",
        "\n",
        "    public string Country { get; set; }\n",
        "\n",
        "    public string Address { get; set; }\n",
        "\n",
        "    public string Date { get; set; }\n",
        "\n",
        "    public DateTime Timestamp { get; set; }\n",
        "\n",
        "}"
      ],
      "outputs": [
        {
          "output_type": "execute_result",
          "execution_count": 2,
          "data": {},
          "metadata": {}
        }
      ],
      "execution_count": 2,
      "metadata": {
        "collapsed": true,
        "execution": {
          "iopub.status.busy": "2020-05-08T21:26:30.905Z",
          "iopub.status.idle": "2020-05-08T21:26:31.054Z",
          "shell.execute_reply": "2020-05-08T21:26:31.065Z"
        },
        "jupyter": {
          "outputs_hidden": false,
          "source_hidden": false
        },
        "nteract": {
          "transient": {
            "deleting": false
          }
        },
        "outputExpanded": false,
        "trusted": true
      }
    },
    {
      "cell_type": "markdown",
      "source": [
        "### Generate some data ###"
      ],
      "metadata": {
        "nteract": {
          "transient": {
            "deleting": false
          }
        }
      }
    },
    {
      "cell_type": "markdown",
      "source": [
        "#### Use custom NuGet packages ####"
      ],
      "metadata": {
        "nteract": {
          "transient": {
            "deleting": false
          }
        }
      }
    },
    {
      "cell_type": "code",
      "source": [
        "#r \"nuget: Bogus\"\n",
        "#r \"nuget: System.Linq\"\n",
        "#r \"nuget: System.Linq.Expressions\""
      ],
      "outputs": [
        {
          "output_type": "execute_result",
          "execution_count": 3,
          "data": {},
          "metadata": {}
        }
      ],
      "execution_count": 3,
      "metadata": {
        "collapsed": true,
        "outputExpanded": false,
        "jupyter": {
          "source_hidden": false,
          "outputs_hidden": false
        },
        "nteract": {
          "transient": {
            "deleting": false
          }
        },
        "execution": {
          "iopub.status.busy": "2020-05-08T21:26:34.804Z",
          "iopub.status.idle": "2020-05-08T21:26:36.449Z",
          "shell.execute_reply": "2020-05-08T21:26:36.457Z"
        }
      }
    },
    {
      "cell_type": "code",
      "source": [
        "using System.Linq;\n",
        "using System.Collections.Generic;\n",
        "using System.Linq.Expressions;\n",
        "using System;\n",
        "using Bogus;\n",
        "\n",
        "static List<PaymentEvent> GenerateRandomPaymentEvents(int numberOfDocumentsPerBatch)\n",
        "{\n",
        "    var faker = new Faker();\n",
        "\n",
        "    var paymentEvent = new Faker<PaymentEvent>()\n",
        "        .StrictMode(true)\n",
        "        //Generate event\n",
        "        .RuleFor(o => o.id, f => Guid.NewGuid().ToString())\n",
        "        .RuleFor(o => o.Amount, f => f.Finance.Amount())\n",
        "        .RuleFor(o => o.TransactionType, f => f.Finance.TransactionType())\n",
        "        .RuleFor(o => o.Currency, f => f.Finance.Currency().ToString())\n",
        "        .RuleFor(o => o.Username, f => f.Internet.UserName())\n",
        "        .RuleFor(o => o.Country, f => f.Address.Country())\n",
        "        .RuleFor(o => o.Address, f => f.Address.StreetAddress())\n",
        "        .RuleFor(o => o.Timestamp, f => DateTime.Now) // just today's date\n",
        "        .RuleFor(o => o.Date, (f, m) => $\"{m.Timestamp.ToString(\"yyyy-MM-dd\")}\");\n",
        "\n",
        "    var events = paymentEvent.Generate(numberOfDocumentsPerBatch);\n",
        "    \n",
        "    return events;\n",
        "    \n",
        "}"
      ],
      "outputs": [
        {
          "output_type": "execute_result",
          "execution_count": 4,
          "data": {},
          "metadata": {}
        }
      ],
      "execution_count": 4,
      "metadata": {
        "collapsed": true,
        "outputExpanded": false,
        "jupyter": {
          "source_hidden": false,
          "outputs_hidden": false
        },
        "nteract": {
          "transient": {
            "deleting": false
          }
        },
        "execution": {
          "iopub.status.busy": "2020-05-08T21:26:44.733Z",
          "iopub.status.idle": "2020-05-08T21:26:45.035Z",
          "shell.execute_reply": "2020-05-08T21:26:45.044Z"
        }
      }
    },
    {
      "cell_type": "markdown",
      "source": [
        "#### Write data to PaymentData container ####"
      ],
      "metadata": {
        "nteract": {
          "transient": {
            "deleting": false
          }
        }
      }
    },
    {
      "cell_type": "code",
      "source": [
        "var paymentEvents = GenerateRandomPaymentEvents(100);\n",
        "\n",
        "foreach (PaymentEvent paymentEvent in paymentEvents)\n",
        "{\n",
        "    var itemResponse = await container.CreateItemAsync<PaymentEvent>(paymentEvent);\n",
        "}\n",
        "\n",
        "Display.AsMarkdown(@\"\n",
        "Created 100 items in PaymentData container. \n",
        "\");"
      ],
      "outputs": [
        {
          "output_type": "display_data",
          "data": {
            "text/plain": [
              "<IPython.core.display.Markdown object>"
            ],
            "text/markdown": [
              "\n",
              "Created 100 items in PaymentData container. \n"
            ]
          },
          "metadata": {}
        },
        {
          "output_type": "execute_result",
          "execution_count": 5,
          "data": {},
          "metadata": {}
        }
      ],
      "execution_count": 2,
      "metadata": {
        "collapsed": true,
        "execution": {
          "iopub.execute_input": "2020-05-08T21:26:51.450Z",
          "iopub.status.busy": "2020-05-08T21:26:51.444Z",
          "iopub.status.idle": "2020-05-08T21:26:51.502Z",
          "shell.execute_reply": "2020-05-08T21:26:51.505Z"
        },
        "jupyter": {
          "outputs_hidden": false,
          "source_hidden": false
        },
        "nteract": {
          "transient": {
            "deleting": false
          }
        },
        "outputExpanded": false,
        "trusted": true
      }
    },
    {
      "cell_type": "markdown",
      "source": [
        "### Query your data ###"
      ],
      "metadata": {
        "nteract": {
          "transient": {
            "deleting": false
          }
        }
      }
    },
    {
      "cell_type": "code",
      "source": [
        "using System.Linq;\n",
        "\n",
        "QueryDefinition queryDefinition = new QueryDefinition(\"SELECT * FROM c WHERE c.TransactionType IN ('deposit', 'invoice')\");\n",
        "\n",
        "FeedIterator<PaymentEvent> queryResultSetIterator = container.GetItemQueryIterator<PaymentEvent>(queryDefinition);\n",
        "\n",
        "List<PaymentEvent> paymentEvents = new List<PaymentEvent>();\n",
        "\n",
        "while (queryResultSetIterator.HasMoreResults)\n",
        "{\n",
        "    FeedResponse<PaymentEvent> currentResultSet = await queryResultSetIterator.ReadNextAsync();\n",
        "    foreach (PaymentEvent paymentEvent in currentResultSet)\n",
        "    {\n",
        "        paymentEvents.Add(paymentEvent);\n",
        "    }\n",
        "}\n",
        "\n",
        "paymentEvents.Take(20)"
      ],
      "outputs": [
        {
          "output_type": "execute_result",
          "execution_count": 25,
          "data": {
            "text/plain": [
              "System.Linq.Enumerable+ListPartition`1[Submission#27+PaymentEvent]"
            ],
            "application/vnd.dataresource+json": {
              "data": [
                {
                  "id": "4c4bf077-0fb8-47a2-8a6f-b6adcef3bf90",
                  "Amount": 120.67,
                  "TransactionType": "deposit",
                  "Currency": "Bogus.DataSets.Currency",
                  "Username": "Korbin31",
                  "Country": "Heard Island and McDonald Islands",
                  "Address": "51587 Lucie Extensions",
                  "Date": "2020-05-06",
                  "Timestamp": "2020-05-06T23:57:27.797392+00:00",
                  "index": 0
                },
                {
                  "id": "89f3179f-6299-46ca-8ef6-8e30d632a51e",
                  "Amount": 492.59,
                  "TransactionType": "invoice",
                  "Currency": "Bogus.DataSets.Currency",
                  "Username": "Sean49",
                  "Country": "Cook Islands",
                  "Address": "5443 Ivory Mountains",
                  "Date": "2020-05-06",
                  "Timestamp": "2020-05-06T23:57:27.7974116+00:00",
                  "index": 1
                },
                {
                  "id": "c1623b78-7e57-4ade-a3e6-2e01d31c6eb9",
                  "Amount": 280.75,
                  "TransactionType": "invoice",
                  "Currency": "Bogus.DataSets.Currency",
                  "Username": "Zoe57",
                  "Country": "Denmark",
                  "Address": "78325 Murazik Pine",
                  "Date": "2020-05-06",
                  "Timestamp": "2020-05-06T23:57:27.7974307+00:00",
                  "index": 2
                },
                {
                  "id": "73f4eb66-5c5e-4388-bcf4-95f9202637fa",
                  "Amount": 860.95,
                  "TransactionType": "invoice",
                  "Currency": "Bogus.DataSets.Currency",
                  "Username": "Mike.Klocko64",
                  "Country": "Brazil",
                  "Address": "612 Kemmer Plains",
                  "Date": "2020-05-06",
                  "Timestamp": "2020-05-06T23:57:27.797732+00:00",
                  "index": 3
                },
                {
                  "id": "cee860c6-0cef-4efc-a861-944e27286625",
                  "Amount": 20.62,
                  "TransactionType": "invoice",
                  "Currency": "Bogus.DataSets.Currency",
                  "Username": "Axel.Waters30",
                  "Country": "Senegal",
                  "Address": "583 Waters Mission",
                  "Date": "2020-05-06",
                  "Timestamp": "2020-05-06T23:57:27.7977604+00:00",
                  "index": 4
                },
                {
                  "id": "4059614f-910c-410b-b4b0-47c2ac1541ed",
                  "Amount": 929.74,
                  "TransactionType": "deposit",
                  "Currency": "Bogus.DataSets.Currency",
                  "Username": "Keaton_Bins60",
                  "Country": "Czech Republic",
                  "Address": "2446 Rashawn Gardens",
                  "Date": "2020-05-06",
                  "Timestamp": "2020-05-06T23:57:27.7977814+00:00",
                  "index": 5
                },
                {
                  "id": "5ed8be48-0e9c-4325-a38b-48223ab5428d",
                  "Amount": 211.85,
                  "TransactionType": "deposit",
                  "Currency": "Bogus.DataSets.Currency",
                  "Username": "Tod.Volkman66",
                  "Country": "Kuwait",
                  "Address": "706 Jailyn Ferry",
                  "Date": "2020-05-06",
                  "Timestamp": "2020-05-06T23:57:27.7978002+00:00",
                  "index": 6
                },
                {
                  "id": "b4217b47-8c83-4ba4-aff5-28b02a324ab3",
                  "Amount": 562.1,
                  "TransactionType": "deposit",
                  "Currency": "Bogus.DataSets.Currency",
                  "Username": "Uriah49",
                  "Country": "Philippines",
                  "Address": "42483 Webster Viaduct",
                  "Date": "2020-05-06",
                  "Timestamp": "2020-05-06T23:57:27.7978169+00:00",
                  "index": 7
                },
                {
                  "id": "bf834654-ede1-442b-820d-59586d8d6181",
                  "Amount": 248.03,
                  "TransactionType": "invoice",
                  "Currency": "Bogus.DataSets.Currency",
                  "Username": "Yesenia.Bailey",
                  "Country": "Bahrain",
                  "Address": "67689 Lindgren Vista",
                  "Date": "2020-05-06",
                  "Timestamp": "2020-05-06T23:57:27.7978548+00:00",
                  "index": 8
                },
                {
                  "id": "43488036-0a5b-4ee9-962a-6f125678974d",
                  "Amount": 450.63,
                  "TransactionType": "deposit",
                  "Currency": "Bogus.DataSets.Currency",
                  "Username": "Electa17",
                  "Country": "Bahamas",
                  "Address": "441 Ruecker Viaduct",
                  "Date": "2020-05-06",
                  "Timestamp": "2020-05-06T23:57:27.7979112+00:00",
                  "index": 9
                },
                {
                  "id": "d8100509-b00e-4246-8e41-9428a7cbed6f",
                  "Amount": 356.1,
                  "TransactionType": "deposit",
                  "Currency": "Bogus.DataSets.Currency",
                  "Username": "Ignacio_West",
                  "Country": "Faroe Islands",
                  "Address": "525 Eula Extensions",
                  "Date": "2020-05-06",
                  "Timestamp": "2020-05-06T23:57:27.7979489+00:00",
                  "index": 10
                },
                {
                  "id": "f945fe13-09c6-4ef9-aa21-630dae5cb862",
                  "Amount": 157.51,
                  "TransactionType": "invoice",
                  "Currency": "Bogus.DataSets.Currency",
                  "Username": "Aryanna.Dickens",
                  "Country": "Tanzania",
                  "Address": "0994 Octavia Avenue",
                  "Date": "2020-05-06",
                  "Timestamp": "2020-05-06T23:57:27.798003+00:00",
                  "index": 11
                },
                {
                  "id": "6c533ca1-4a72-4dd8-9fa8-c0d09bf8d51c",
                  "Amount": 879.75,
                  "TransactionType": "invoice",
                  "Currency": "Bogus.DataSets.Currency",
                  "Username": "Mary.Metz60",
                  "Country": "Spain",
                  "Address": "23404 Johan Roads",
                  "Date": "2020-05-06",
                  "Timestamp": "2020-05-06T23:57:27.7980215+00:00",
                  "index": 12
                },
                {
                  "id": "bafe7fce-5d84-4169-8361-c1202e407852",
                  "Amount": 224.48,
                  "TransactionType": "invoice",
                  "Currency": "Bogus.DataSets.Currency",
                  "Username": "Devin_Hegmann89",
                  "Country": "Timor-Leste",
                  "Address": "67717 Abshire Trace",
                  "Date": "2020-05-06",
                  "Timestamp": "2020-05-06T23:57:27.7980406+00:00",
                  "index": 13
                },
                {
                  "id": "ff1d1640-8f70-4b19-ba84-68fe856863c5",
                  "Amount": 559.44,
                  "TransactionType": "deposit",
                  "Currency": "Bogus.DataSets.Currency",
                  "Username": "Jasmin40",
                  "Country": "Nigeria",
                  "Address": "057 Hulda Parkways",
                  "Date": "2020-05-06",
                  "Timestamp": "2020-05-06T23:57:27.7980592+00:00",
                  "index": 14
                },
                {
                  "id": "ed472b85-4341-4f94-a17b-fad116c26ad0",
                  "Amount": 88.54,
                  "TransactionType": "deposit",
                  "Currency": "Bogus.DataSets.Currency",
                  "Username": "Consuelo_Tromp3",
                  "Country": "Saint Martin",
                  "Address": "9629 Durward Lock",
                  "Date": "2020-05-06",
                  "Timestamp": "2020-05-06T23:57:27.7981141+00:00",
                  "index": 15
                },
                {
                  "id": "a95afba0-13ef-496b-a08c-91dda015de72",
                  "Amount": 536.89,
                  "TransactionType": "deposit",
                  "Currency": "Bogus.DataSets.Currency",
                  "Username": "Alexandro_West",
                  "Country": "Saint Barthelemy",
                  "Address": "95289 Gerlach Crossroad",
                  "Date": "2020-05-06",
                  "Timestamp": "2020-05-06T23:57:27.7981333+00:00",
                  "index": 16
                },
                {
                  "id": "712daf88-710c-4ef5-8b3c-87c20e2a6d01",
                  "Amount": 246.37,
                  "TransactionType": "invoice",
                  "Currency": "Bogus.DataSets.Currency",
                  "Username": "Nakia_Kling",
                  "Country": "Burkina Faso",
                  "Address": "1261 Wiza Center",
                  "Date": "2020-05-06",
                  "Timestamp": "2020-05-06T23:57:27.7981514+00:00",
                  "index": 17
                },
                {
                  "id": "63041ce0-9814-4abf-8305-c775aeac83c2",
                  "Amount": 444.08,
                  "TransactionType": "deposit",
                  "Currency": "Bogus.DataSets.Currency",
                  "Username": "Anderson15",
                  "Country": "Gambia",
                  "Address": "80693 Lakin River",
                  "Date": "2020-05-06",
                  "Timestamp": "2020-05-06T23:57:27.7981684+00:00",
                  "index": 18
                },
                {
                  "id": "b343d641-31d3-4f74-a9d0-52344a0ecc4e",
                  "Amount": 260.84,
                  "TransactionType": "deposit",
                  "Currency": "Bogus.DataSets.Currency",
                  "Username": "Lenna80",
                  "Country": "Belize",
                  "Address": "057 Viva Plain",
                  "Date": "2020-05-06",
                  "Timestamp": "2020-05-06T23:57:27.7981864+00:00",
                  "index": 19
                }
              ],
              "schema": {
                "fields": [
                  {
                    "name": "index",
                    "type": "integer"
                  },
                  {
                    "name": "id",
                    "type": "string"
                  },
                  {
                    "name": "Amount",
                    "type": "float"
                  },
                  {
                    "name": "TransactionType",
                    "type": "string"
                  },
                  {
                    "name": "Currency",
                    "type": "string"
                  },
                  {
                    "name": "Username",
                    "type": "string"
                  },
                  {
                    "name": "Country",
                    "type": "string"
                  },
                  {
                    "name": "Address",
                    "type": "string"
                  },
                  {
                    "name": "Date",
                    "type": "string"
                  },
                  {
                    "name": "Timestamp",
                    "type": "date"
                  }
                ],
                "primaryKey": [
                  "index"
                ]
              }
            }
          },
          "metadata": {
            "application/vnd.dataresource+json": {
              "size": 4,
              "_root": {
                "ownerID": {},
                "entries": [
                  [
                    "size",
                    4
                  ],
                  [
                    "_root",
                    {
                      "ownerID": {},
                      "entries": [
                        [
                          "size",
                          6
                        ],
                        [
                          "_root",
                          {
                            "ownerID": {},
                            "entries": [
                              [
                                "size",
                                6
                              ],
                              [
                                "_root",
                                {
                                  "ownerID": {},
                                  "entries": [
                                    [
                                      "size",
                                      6
                                    ],
                                    [
                                      "_root",
                                      {
                                        "ownerID": {},
                                        "entries": [
                                          [
                                            "size",
                                            1
                                          ],
                                          [
                                            "_root",
                                            {
                                              "ownerID": {},
                                              "entries": [
                                                [
                                                  "dx",
                                                  {
                                                    "summaryType": "violin",
                                                    "marginalGraphics": "none",
                                                    "view": "grid",
                                                    "areaType": "hexbin",
                                                    "selectedDimensions": [
                                                      "Currency"
                                                    ],
                                                    "selectedMetrics": [],
                                                    "networkType": "force",
                                                    "pieceType": "bar",
                                                    "lineType": "line",
                                                    "hierarchyType": "dendrogram",
                                                    "colors": [
                                                      "#DA752E",
                                                      "#E5C209",
                                                      "#1441A0",
                                                      "#B86117",
                                                      "#4D430C",
                                                      "#1DB390",
                                                      "#B3331D",
                                                      "#088EB2",
                                                      "#417505",
                                                      "#E479A8",
                                                      "#F9F39E",
                                                      "#5782DC",
                                                      "#EBA97B",
                                                      "#A2AB60",
                                                      "#B291CF",
                                                      "#8DD2C2",
                                                      "#E6A19F",
                                                      "#3DC7E0",
                                                      "#98CE5B"
                                                    ],
                                                    "trendLine": "none",
                                                    "barGrouping": "Clustered",
                                                    "chart": {
                                                      "metric1": "none",
                                                      "metric2": "none",
                                                      "timeseriesSort": "array-order",
                                                      "metric3": "none",
                                                      "metric4": "none",
                                                      "networkLabel": "none",
                                                      "dim1": "Currency",
                                                      "dim2": "Date",
                                                      "dim3": "none"
                                                    }
                                                  }
                                                ]
                                              ]
                                            }
                                          ],
                                          [
                                            "__ownerID",
                                            null
                                          ],
                                          [
                                            "__hash",
                                            null
                                          ],
                                          [
                                            "__altered",
                                            false
                                          ],
                                          [
                                            "dx",
                                            {
                                              "summaryType": "violin",
                                              "marginalGraphics": "none",
                                              "view": "bar",
                                              "areaType": "hexbin",
                                              "selectedDimensions": [
                                                "Currency"
                                              ],
                                              "selectedMetrics": [],
                                              "networkType": "force",
                                              "pieceType": "bar",
                                              "lineType": "line",
                                              "hierarchyType": "dendrogram",
                                              "colors": [
                                                "#DA752E",
                                                "#E5C209",
                                                "#1441A0",
                                                "#B86117",
                                                "#4D430C",
                                                "#1DB390",
                                                "#B3331D",
                                                "#088EB2",
                                                "#417505",
                                                "#E479A8",
                                                "#F9F39E",
                                                "#5782DC",
                                                "#EBA97B",
                                                "#A2AB60",
                                                "#B291CF",
                                                "#8DD2C2",
                                                "#E6A19F",
                                                "#3DC7E0",
                                                "#98CE5B"
                                              ],
                                              "trendLine": "none",
                                              "barGrouping": "Clustered",
                                              "chart": {
                                                "metric1": "none",
                                                "metric2": "none",
                                                "timeseriesSort": "array-order",
                                                "metric3": "none",
                                                "metric4": "none",
                                                "networkLabel": "none",
                                                "dim1": "Currency",
                                                "dim2": "Date",
                                                "dim3": "none"
                                              }
                                            }
                                          ]
                                        ]
                                      }
                                    ],
                                    [
                                      "__ownerID",
                                      null
                                    ],
                                    [
                                      "__hash",
                                      null
                                    ],
                                    [
                                      "__altered",
                                      false
                                    ],
                                    [
                                      "dx",
                                      {
                                        "summaryType": "violin",
                                        "marginalGraphics": "none",
                                        "view": "grid",
                                        "areaType": "hexbin",
                                        "selectedDimensions": [
                                          "Currency"
                                        ],
                                        "selectedMetrics": [],
                                        "networkType": "force",
                                        "pieceType": "bar",
                                        "lineType": "line",
                                        "hierarchyType": "dendrogram",
                                        "colors": [
                                          "#DA752E",
                                          "#E5C209",
                                          "#1441A0",
                                          "#B86117",
                                          "#4D430C",
                                          "#1DB390",
                                          "#B3331D",
                                          "#088EB2",
                                          "#417505",
                                          "#E479A8",
                                          "#F9F39E",
                                          "#5782DC",
                                          "#EBA97B",
                                          "#A2AB60",
                                          "#B291CF",
                                          "#8DD2C2",
                                          "#E6A19F",
                                          "#3DC7E0",
                                          "#98CE5B"
                                        ],
                                        "trendLine": "none",
                                        "barGrouping": "Clustered",
                                        "chart": {
                                          "metric1": "none",
                                          "metric2": "none",
                                          "timeseriesSort": "array-order",
                                          "metric3": "none",
                                          "metric4": "none",
                                          "networkLabel": "none",
                                          "dim1": "Currency",
                                          "dim2": "Date",
                                          "dim3": "none"
                                        }
                                      }
                                    ]
                                  ]
                                }
                              ],
                              [
                                "__ownerID",
                                null
                              ],
                              [
                                "__hash",
                                null
                              ],
                              [
                                "__altered",
                                false
                              ],
                              [
                                "dx",
                                {
                                  "summaryType": "violin",
                                  "marginalGraphics": "none",
                                  "view": "grid",
                                  "areaType": "hexbin",
                                  "selectedDimensions": [
                                    "Currency"
                                  ],
                                  "selectedMetrics": [],
                                  "networkType": "force",
                                  "pieceType": "bar",
                                  "lineType": "line",
                                  "hierarchyType": "dendrogram",
                                  "colors": [
                                    "#DA752E",
                                    "#E5C209",
                                    "#1441A0",
                                    "#B86117",
                                    "#4D430C",
                                    "#1DB390",
                                    "#B3331D",
                                    "#088EB2",
                                    "#417505",
                                    "#E479A8",
                                    "#F9F39E",
                                    "#5782DC",
                                    "#EBA97B",
                                    "#A2AB60",
                                    "#B291CF",
                                    "#8DD2C2",
                                    "#E6A19F",
                                    "#3DC7E0",
                                    "#98CE5B"
                                  ],
                                  "trendLine": "none",
                                  "barGrouping": "Clustered",
                                  "chart": {
                                    "metric1": "none",
                                    "metric2": "none",
                                    "timeseriesSort": "array-order",
                                    "metric3": "none",
                                    "metric4": "none",
                                    "networkLabel": "none",
                                    "dim1": "Currency",
                                    "dim2": "Date",
                                    "dim3": "none"
                                  }
                                }
                              ]
                            ]
                          }
                        ],
                        [
                          "__altered",
                          false
                        ],
                        [
                          "dx",
                          {
                            "summaryType": "violin",
                            "marginalGraphics": "none",
                            "view": "bar",
                            "areaType": "hexbin",
                            "selectedDimensions": [
                              "Currency"
                            ],
                            "selectedMetrics": [],
                            "networkType": "force",
                            "pieceType": "bar",
                            "lineType": "line",
                            "hierarchyType": "dendrogram",
                            "colors": [
                              "#DA752E",
                              "#E5C209",
                              "#1441A0",
                              "#B86117",
                              "#4D430C",
                              "#1DB390",
                              "#B3331D",
                              "#088EB2",
                              "#417505",
                              "#E479A8",
                              "#F9F39E",
                              "#5782DC",
                              "#EBA97B",
                              "#A2AB60",
                              "#B291CF",
                              "#8DD2C2",
                              "#E6A19F",
                              "#3DC7E0",
                              "#98CE5B"
                            ],
                            "trendLine": "none",
                            "barGrouping": "Clustered",
                            "chart": {
                              "metric1": "none",
                              "metric2": "none",
                              "timeseriesSort": "array-order",
                              "metric3": "none",
                              "metric4": "none",
                              "networkLabel": "none",
                              "dim1": "Currency",
                              "dim2": "Date",
                              "dim3": "none"
                            }
                          }
                        ]
                      ]
                    }
                  ],
                  [
                    "__altered",
                    false
                  ],
                  [
                    "dx",
                    {
                      "summaryType": "violin",
                      "marginalGraphics": "none",
                      "view": "grid",
                      "areaType": "hexbin",
                      "selectedDimensions": [
                        "Currency"
                      ],
                      "selectedMetrics": [],
                      "networkType": "force",
                      "pieceType": "bar",
                      "lineType": "line",
                      "hierarchyType": "dendrogram",
                      "colors": [
                        "#DA752E",
                        "#E5C209",
                        "#1441A0",
                        "#B86117",
                        "#4D430C",
                        "#1DB390",
                        "#B3331D",
                        "#088EB2",
                        "#417505",
                        "#E479A8",
                        "#F9F39E",
                        "#5782DC",
                        "#EBA97B",
                        "#A2AB60",
                        "#B291CF",
                        "#8DD2C2",
                        "#E6A19F",
                        "#3DC7E0",
                        "#98CE5B"
                      ],
                      "trendLine": "none",
                      "barGrouping": "Clustered",
                      "chart": {
                        "metric1": "none",
                        "metric2": "none",
                        "timeseriesSort": "array-order",
                        "metric3": "none",
                        "metric4": "none",
                        "networkLabel": "none",
                        "dim1": "Currency",
                        "dim2": "Date",
                        "dim3": "none"
                      }
                    }
                  ]
                ]
              },
              "__altered": false,
              "dx": {
                "summaryType": "violin",
                "marginalGraphics": "none",
                "view": "grid",
                "areaType": "hexbin",
                "selectedDimensions": [
                  "Currency"
                ],
                "selectedMetrics": [],
                "networkType": "force",
                "pieceType": "bar",
                "lineType": "line",
                "hierarchyType": "dendrogram",
                "colors": [
                  "#DA752E",
                  "#E5C209",
                  "#1441A0",
                  "#B86117",
                  "#4D430C",
                  "#1DB390",
                  "#B3331D",
                  "#088EB2",
                  "#417505",
                  "#E479A8",
                  "#F9F39E",
                  "#5782DC",
                  "#EBA97B",
                  "#A2AB60",
                  "#B291CF",
                  "#8DD2C2",
                  "#E6A19F",
                  "#3DC7E0",
                  "#98CE5B"
                ],
                "trendLine": "none",
                "barGrouping": "Clustered",
                "chart": {
                  "metric1": "none",
                  "metric2": "none",
                  "timeseriesSort": "array-order",
                  "metric3": "none",
                  "metric4": "none",
                  "networkLabel": "none",
                  "dim1": "Currency",
                  "dim2": "Date",
                  "dim3": "none"
                }
              }
            }
          }
        }
      ],
      "execution_count": 25,
      "metadata": {
        "collapsed": true,
        "execution": {
          "iopub.status.busy": "2020-05-07T18:54:55.822Z",
          "iopub.status.idle": "2020-05-07T18:54:56.000Z",
          "shell.execute_reply": "2020-05-07T18:54:56.004Z"
        },
        "jupyter": {
          "outputs_hidden": false,
          "source_hidden": false
        },
        "nteract": {
          "transient": {
            "deleting": false
          }
        },
        "outputExpanded": false,
        "trusted": true
      }
    },
    {
      "cell_type": "markdown",
      "source": [
        "### Hello Andrew Brust!###"
      ],
      "metadata": {
        "nteract": {
          "transient": {
            "deleting": false
          }
        }
      }
    },
    {
      "cell_type": "markdown",
      "source": [],
      "metadata": {
        "nteract": {
          "transient": {
            "deleting": false
          }
        }
      }
    }
  ],
  "metadata": {
    "kernelspec": {
      "displayName": "CSharp",
      "language": "csharp",
      "name": "csharp"
    },
    "language_info": {
      "name": "csharp",
      "version": "7.3",
      "mimetype": "application/json",
      "file_extension": "ipynb",
      "codemirror_mode": "text/x-csharp"
    },
    "nteract": {
      "version": "dataExplorer 1.0"
    }
  },
  "nbformat": 4,
  "nbformat_minor": 4
}